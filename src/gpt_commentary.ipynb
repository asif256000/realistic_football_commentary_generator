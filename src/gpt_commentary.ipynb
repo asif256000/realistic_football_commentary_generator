{
 "cells": [
  {
   "cell_type": "code",
   "execution_count": 22,
   "metadata": {},
   "outputs": [],
   "source": [
    "from openai import OpenAI\n",
    "from dotenv import load_dotenv\n",
    "import os\n",
    "import time\n",
    "from logger import setup_logger, log_info, log_debug, log_error"
   ]
  },
  {
   "cell_type": "code",
   "execution_count": 23,
   "metadata": {},
   "outputs": [],
   "source": [
    "load_dotenv()\n",
    "setup_logger()"
   ]
  },
  {
   "cell_type": "code",
   "execution_count": 24,
   "metadata": {},
   "outputs": [],
   "source": [
    "key = os.getenv(\"OPENAI_API_KEY\")"
   ]
  },
  {
   "cell_type": "code",
   "execution_count": 25,
   "metadata": {},
   "outputs": [],
   "source": [
    "my_client = OpenAI(api_key=key)"
   ]
  },
  {
   "cell_type": "code",
   "execution_count": 26,
   "metadata": {},
   "outputs": [],
   "source": [
    "def time_this_function(func):\n",
    "    def wrapper(*args, **kwargs):\n",
    "        start = time.perf_counter()\n",
    "        res = func(*args, **kwargs)\n",
    "        end = time.perf_counter()\n",
    "        print(f\"Function `{func.__name__}` took {end - start:.3f} seconds to run.\")\n",
    "        return res\n",
    "\n",
    "    return wrapper"
   ]
  },
  {
   "cell_type": "code",
   "execution_count": 27,
   "metadata": {},
   "outputs": [],
   "source": [
    "@time_this_function\n",
    "def get_completion(prompt, model=\"gpt-3.5-turbo\"):\n",
    "    messages = [{\"role\": \"user\", \"content\": prompt}]\n",
    "\n",
    "    response = my_client.chat.completions.create(\n",
    "        model=model,\n",
    "        messages=messages,\n",
    "        temperature=0,\n",
    "    )\n",
    "\n",
    "    log_debug(response)\n",
    "\n",
    "    return response.choices[0].message.content\n",
    "\n",
    "\n",
    "@time_this_function\n",
    "def stream_completion(prompt, model=\"gpt-3.5-turbo\"):\n",
    "    messages = [{\"role\": \"user\", \"content\": prompt}]\n",
    "\n",
    "    response = my_client.chat.completions.create(\n",
    "        model=model,\n",
    "        messages=messages,\n",
    "        stream=True,\n",
    "        temperature=0,\n",
    "    )\n",
    "\n",
    "    log_debug(response)\n",
    "\n",
    "    for resp_chunk in response:\n",
    "        curr_chunk = resp_chunk.choices[0].delta.content\n",
    "        if curr_chunk is not None:\n",
    "            yield curr_chunk\n",
    "\n",
    "\n",
    "@time_this_function\n",
    "def converse(\n",
    "    prompt,\n",
    "    messages=None,\n",
    "    model=\"gpt-3.5-turbo\",\n",
    "    max_tokens=3000,\n",
    "    temperature=0,\n",
    "    top_p=1,\n",
    "    frequency_penalty=0,\n",
    "    presence_penalty=0,\n",
    "):\n",
    "    if messages is None:\n",
    "        messages = list()\n",
    "\n",
    "    messages.append({\"role\": \"user\", \"content\": prompt})\n",
    "\n",
    "    response = (\n",
    "        my_client.chat.completions.create(\n",
    "            model=model,\n",
    "            messages=messages,\n",
    "            temperature=temperature,\n",
    "            max_tokens=max_tokens,\n",
    "            top_p=top_p,\n",
    "            frequency_penalty=frequency_penalty,\n",
    "            presence_penalty=presence_penalty,\n",
    "        )\n",
    "        .choices[0]\n",
    "        .message.content\n",
    "    )\n",
    "\n",
    "    messages.append({\"role\": \"assistant\", \"content\": response})\n",
    "\n",
    "    return response, messages"
   ]
  },
  {
   "cell_type": "code",
   "execution_count": 28,
   "metadata": {},
   "outputs": [],
   "source": [
    "@time_this_function\n",
    "def get_assistant_from_id(assistant_id: str):\n",
    "    my_assistant = my_client.beta.assistants.retrieve(assistant_id)\n",
    "    log_info(my_assistant)\n",
    "\n",
    "    return my_assistant.id\n",
    "\n",
    "\n",
    "@time_this_function\n",
    "def delete_assistant_with_id(assistant_id: str):\n",
    "    response = my_client.beta.assistants.delete(assistant_id)\n",
    "    log_info(response)\n",
    "\n",
    "    return response.deleted\n",
    "\n",
    "\n",
    "@time_this_function\n",
    "def create_assistant_thread(user_msg: str):\n",
    "    thread = my_client.beta.threads.create(messages=[{\"role\": \"user\", \"content\": user_msg}])\n",
    "    log_info(thread)\n",
    "\n",
    "    return thread.id\n",
    "\n",
    "\n",
    "@time_this_function\n",
    "def create_assistant(assistant_name: str, instruction: str, model: str = \"gpt-3.5-turbo\"):\n",
    "    my_assistant = my_client.beta.assistants.create(model=model, instructions=instruction, name=assistant_name)\n",
    "    log_info(my_assistant)\n",
    "\n",
    "    return my_assistant.id\n",
    "\n",
    "\n",
    "@time_this_function\n",
    "def create_run_from_thread(thread_id: str, assistant_id: str):\n",
    "    run = my_client.beta.threads.runs.create(thread_id=thread_id, assistant_id=assistant_id)\n",
    "    log_info(run)\n",
    "\n",
    "    return run.id\n",
    "\n",
    "\n",
    "@time_this_function\n",
    "def poll_run_till_complete(thread_id: str, run_id: str):\n",
    "    while True:\n",
    "        run = my_client.beta.threads.runs.retrieve(thread_id=thread_id, run_id=run_id)\n",
    "\n",
    "        if run.status not in [\"queued\", \"in_progress\"]:\n",
    "            log_info(run)\n",
    "            return run.id\n",
    "\n",
    "        time.sleep(1)\n",
    "\n",
    "\n",
    "@time_this_function\n",
    "def list_messages_in_thread(thread_id: str):\n",
    "    messages = my_client.beta.threads.messages.list(thread_id=thread_id)\n",
    "    log_info(messages)\n",
    "\n",
    "    return messages"
   ]
  },
  {
   "cell_type": "code",
   "execution_count": 29,
   "metadata": {},
   "outputs": [],
   "source": [
    "ONE_GAME_EVENTS = (\n",
    "    \"It is a football match in the 2014 season of the first division league of spain. The match is played in the home turf of Real Madrid on 2014-03-23, \"\n",
    "    \"between home team Real Madrid and away team Barcelona. On minute 4, the game is being played on Right side of the box in the field, and Attempt happens \"\n",
    "    \"accompanied with Key Pass. The primary player involved in the event was neymar who used his right foot for the shot with the secondary player involved \"\n",
    "    \"being lionel messi.  The shot was on target and was placed at the Bottom right corner of the goal. On minute 5, the game is being played on Right side of \"\n",
    "    \"the box in the field, and Attempt happens accompanied with Key Pass. The primary player involved in the event was karim benzema who used his left foot for \"\n",
    "    \"the shot with the secondary player involved being gareth bale.  The shot was off target and was flying Misses to the right. On minute 7, the game is being played \"\n",
    "    \"on Centre of the box in the field, and Attempt happens accompanied with Key Pass. This resulted in a goal for Barcelona, which was accompanied by an assist via Pass. \"\n",
    "    \"The primary player involved in the event was andres iniesta who used his left foot for the shot with the secondary player involved being lionel messi.  The shot was \"\n",
    "    \"on target and was placed at the Top right corner of the goal. On minute 12, the game is being played on Outside the box in the field, and Attempt happens accompanied \"\n",
    "    \"with Key Pass. The primary player involved in the event was karim benzema who used his right foot for the shot with the secondary player involved being gareth bale. \"\n",
    "    \"The shot was on target and was placed at the Centre of the goal of the goal. On minute 12, the game is being played on Centre of the box in the field, and Attempt \"\n",
    "    \"happens accompanied with Key Pass. The primary player involved in the event was karim benzema who used his left foot for the shot with the secondary player involved \"\n",
    "    \"being angel di maria.  The shot was off target and was flying Too high. On minute 15, the game is being played on Centre of the box in the field, and Attempt happens \"\n",
    "    \"accompanied with Key Pass. The primary player involved in the event was lionel messi who used his left foot for the shot with the secondary player involved being \"\n",
    "    \"cesc fabregas.  The shot was off target and was flying Misses to the right. On minute 19, the game is being played on Centre of the box in the field, and Attempt \"\n",
    "    \"happens accompanied with Key Pass. The primary player involved in the event was neymar who used his left foot for the shot with the secondary player involved being \"\n",
    "    \"lionel messi.  The shot was blocked by the opponent team. On minute 20, the game is being played on Centre of the box in the field, and Attempt happens accompanied \"\n",
    "    \"with Key Pass. This resulted in a goal for Real Madrid, which was accompanied by an assist via Cross. The primary player involved in the event was karim benzema \"\n",
    "    \"who used his head for the shot with the secondary player involved being angel di maria.  The shot was on target and was placed at the Bottom right corner of the goal. \"\n",
    "    \"On minute 24, the game is being played on Centre of the box in the field, and Attempt happens accompanied with Key Pass. This resulted in a goal for Real Madrid, \"\n",
    "    \"which was accompanied by an assist via Cross. The primary player involved in the event was karim benzema who used his right foot for the shot with the secondary \"\n",
    "    \"player involved being angel di maria.  The shot was on target and was placed at the Bottom right corner of the goal. On minute 26, the game is being played on \"\n",
    "    \"Centre of the box in the field, and Attempt happens accompanied with Key Pass. The primary player involved in the event was karim benzema who used his left foot \"\n",
    "    \"for the shot with the secondary player involved being angel di maria.  The shot was blocked by the opponent team. On minute 27, the game is being played on \"\n",
    "    \"Outside the box in the field, and Attempt happens. The primary player involved in the event was luka modric who used his left foot for the shot. The shot was \"\n",
    "    \"off target and was flying Too high. On minute 42, the game is being played on Centre of the box in the field, and Attempt happens. This resulted in a goal for \"\n",
    "    \"Barcelona, which was accompanied by an assist via None. The primary player involved in the event was lionel messi who used his left foot for the shot. The shot was \"\n",
    "    \"on target and was placed at the Bottom right corner of the goal. On minute 45, the game is being played on Centre of the box in the field, and Attempt happens \"\n",
    "    \"accompanied with Key Pass. The primary player involved in the event was karim benzema who used his head for the shot with the secondary player involved being \"\n",
    "    \"daniel carvajal.  The shot was off target and was flying Misses to the right. On minute 52, the game is being played on Centre of the box in the field, and Attempt \"\n",
    "    \"happens accompanied with Key Pass. The primary player involved in the event was karim benzema who used his right foot for the shot with the secondary player involved \"\n",
    "    \"being gareth bale.  The shot was on target and was placed at the Bottom left corner of the goal. On minute 55, the game is being played on Penalty spot in the field, \"\n",
    "    \"and Attempt happens. This resulted in a goal for Real Madrid, which was accompanied by an assist via None. The primary player involved in the event was cristiano ronaldo \"\n",
    "    \"who used his right foot for the shot. The shot was on target and was placed at the Bottom left corner of the goal. On minute 58, the game is being played on \"\n",
    "    \"Difficult angle on the right in the field, and Attempt happens accompanied with Key Pass. The primary player involved in the event was gareth bale who used his \"\n",
    "    \"right foot for the shot with the secondary player involved being karim benzema.  The shot was on target and was placed at the Centre of the goal of the goal. \"\n",
    "    \"On minute 61, the game is being played on Outside the box in the field, and Attempt happens accompanied with Key Pass. The primary player involved in the event \"\n",
    "    \"was neymar who used his left foot for the shot with the secondary player involved being cesc fabregas.  The shot was on target and was placed at the Centre of the \"\n",
    "    \"goal of the goal. On minute 63, the game is being played on nan in the field, and Red card happens accompanied with Sending off. The primary player involved in \"\n",
    "    \"the event was sergio ramos. On minute 65, the game is being played on Penalty spot in the field, and Attempt happens. This resulted in a goal for Barcelona, which \"\n",
    "    \"was accompanied by an assist via None. The primary player involved in the event was lionel messi who used his left foot for the shot. The shot was on target and was placed at the Bottom right corner of the goal. On minute 68, the game is being played on Outside the box in the field, and Attempt happens accompanied with Key Pass. The primary player involved in the event was andres iniesta who used his right foot for the shot with the secondary player involved being sergio busquets. The shot was blocked by the opponent team. On minute 74, the game is being played on Outside the box in the field, and Attempt happens accompanied with Key Pass. The primary player involved in the event was dani alves who used his right foot for the shot with the secondary player involved being lionel messi.  The shot had hit the bar. On minute 82, the game is being played on Outside the box in the field, and Attempt happens accompanied with Key Pass. The primary player involved in the event was javier mascherano who used his right foot for the shot with the secondary player involved being sergio busquets.  The shot was off target and was flying Bit too high. On minute 84, the game is being played on Penalty spot in the field, and Attempt happens. This resulted in a goal for Barcelona, which was accompanied by an assist via None. The primary player involved in the event was lionel messi who used his left foot for the shot. The shot was on target and was placed at the Top right corner of the goal. On minute 90, the game is being played on Centre of the box in the field, and Attempt happens accompanied with Key Pass. The primary player involved in the event was alexis sanchez who used his right foot for the shot with the secondary player involved being lionel messi.  The shot was off target and was flying Misses to the left. The final result of the game is 4 goals for Barcelona vs 3 goals for Real Madrid. The winner is the away team Barcelona.\"\n",
    ")"
   ]
  },
  {
   "cell_type": "code",
   "execution_count": 30,
   "metadata": {},
   "outputs": [],
   "source": [
    "ASSISTANT_INSTRUCTION = (\n",
    "    \"You are a football commentator bot in the 5 major leagues in Europe, who summarizes the major events \"\n",
    "    \"of a game. You are given the contexts for the game, as well as the final results of the game. Use the context and search the \"\n",
    "    \"latest data available to set up the environment, then summarize the game, and finally explain the result. While \"\n",
    "    \"summarizing the game, you should mention the major events that had impacted the game. If you find the stadium names, \"\n",
    "    \"or the shirt number of the players, you should also include those in your summary. Try to keep the commentary \"\n",
    "    \"interesting and engaging for the audience while maintaining a 5 minute spoken length for the commentary. \"\n",
    ")"
   ]
  },
  {
   "cell_type": "code",
   "execution_count": 31,
   "metadata": {},
   "outputs": [],
   "source": [
    "@time_this_function\n",
    "def get_assistant_response():\n",
    "    assistant_name = \"Soccer Commentator Bot\"\n",
    "    assistant_id = create_assistant(assistant_name, ASSISTANT_INSTRUCTION)\n",
    "    retrieved_assistant_id = get_assistant_from_id(assistant_id)\n",
    "    assert retrieved_assistant_id == assistant_id\n",
    "    thread_id = create_assistant_thread(ONE_GAME_EVENTS)\n",
    "    run_id = create_run_from_thread(thread_id, assistant_id)\n",
    "    retrieved_run_id = poll_run_till_complete(thread_id, run_id)\n",
    "    assert retrieved_run_id == run_id\n",
    "    if delete_assistant_with_id(assistant_id):\n",
    "        log_info(f\"Deleted assistant with id: {assistant_id}\")\n",
    "\n",
    "    all_msgs = list()\n",
    "    msgs = list_messages_in_thread(thread_id)\n",
    "    for msg in msgs.data:\n",
    "        all_msgs.append(msg.content[0].text.value)\n",
    "    log_debug(all_msgs)\n",
    "\n",
    "    return all_msgs[0]"
   ]
  },
  {
   "cell_type": "code",
   "execution_count": 35,
   "metadata": {},
   "outputs": [
    {
     "name": "stdout",
     "output_type": "stream",
     "text": [
      "Function `create_assistant` took 0.473 seconds to run.\n",
      "Function `get_assistant_from_id` took 0.196 seconds to run.\n",
      "Function `create_assistant_thread` took 0.312 seconds to run.\n",
      "Function `create_run_from_thread` took 0.429 seconds to run.\n",
      "Function `poll_run_till_complete` took 7.288 seconds to run.\n",
      "Function `delete_assistant_with_id` took 0.209 seconds to run.\n",
      "Function `list_messages_in_thread` took 0.213 seconds to run.\n",
      "Function `create_run_delete_assistant` took 9.125 seconds to run.\n"
     ]
    }
   ],
   "source": [
    "response = get_assistant_response()"
   ]
  },
  {
   "cell_type": "code",
   "execution_count": 37,
   "metadata": {},
   "outputs": [
    {
     "name": "stdout",
     "output_type": "stream",
     "text": [
      "Welcome to today's thrilling match between two Spanish giants, Real Madrid and Barcelona, at the Santiago Bernabeu Stadium. The atmosphere is electric as fans are on the edge of their seats for this highly anticipated clash.\n",
      "\n",
      "The game started with a bang as Neymar opens the scoring for Barcelona in the 7th minute with a precise shot into the top right corner, assisted by Iniesta. Real Madrid quickly responds with Benzema equalizing in the 20th minute, heading in a cross from Di Maria. Benzema becomes a key player, scoring again in the 24th minute, this time with a right-footed shot at the bottom right corner from another Di Maria cross.\n",
      "\n",
      "The first half continues to be intense as Messi scores for Barcelona in the 42nd minute, putting them level with Real Madrid. The teams head into halftime with a 2-2 scoreline.\n",
      "\n",
      "The second half sees Cristiano Ronaldo converting a penalty in the 55th minute to put Real Madrid in the lead. However, the game takes a turn when Sergio Ramos receives a red card in the 63rd minute, leaving Real Madrid with 10 men.\n",
      "\n",
      "Barcelona capitalizes on the numerical advantage, with Messi scoring his second goal from the penalty spot in the 65th minute to level the score at 3-3. The game reaches its climax when Messi completes his hat-trick in the 84th minute, putting Barcelona in the lead with a stunning goal in the top right corner.\n",
      "\n",
      "Despite a late push from Real Madrid, including a missed opportunity by Alexis Sanchez in the 90th minute, Barcelona holds on to claim a 4-3 victory in this dramatic El Clasico showdown.\n",
      "\n",
      "The away team, Barcelona, emerges victorious in a thrilling encounter, showcasing their attacking prowess and resilience. The individual brilliance of players like Messi and Iniesta proved to be decisive in securing the win, while Real Madrid will be ruing missed opportunities, especially after going down to 10 men.\n",
      "\n",
      "That's all from the Santiago Bernabeu tonight, where Barcelona takes home the bragging rights in this intense battle of Spanish giants!\n"
     ]
    }
   ],
   "source": [
    "print(response)"
   ]
  },
  {
   "cell_type": "code",
   "execution_count": null,
   "metadata": {},
   "outputs": [],
   "source": [
    "@time_this_function\n",
    "def chat_test_run():\n",
    "    prompt = f\"How are you feeling today?\"\n",
    "    response = get_completion(prompt)\n",
    "    print(response)"
   ]
  },
  {
   "cell_type": "code",
   "execution_count": null,
   "metadata": {},
   "outputs": [],
   "source": []
  }
 ],
 "metadata": {
  "kernelspec": {
   "display_name": "capstone",
   "language": "python",
   "name": "python3"
  },
  "language_info": {
   "codemirror_mode": {
    "name": "ipython",
    "version": 3
   },
   "file_extension": ".py",
   "mimetype": "text/x-python",
   "name": "python",
   "nbconvert_exporter": "python",
   "pygments_lexer": "ipython3",
   "version": "3.12.1"
  }
 },
 "nbformat": 4,
 "nbformat_minor": 2
}
