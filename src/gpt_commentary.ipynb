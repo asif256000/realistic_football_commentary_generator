{
 "cells": [
  {
   "cell_type": "code",
   "execution_count": 1,
   "metadata": {},
   "outputs": [],
   "source": [
    "from openai import OpenAI\n",
    "from dotenv import load_dotenv\n",
    "import os\n",
    "import time\n",
    "from logger import setup_logger, log_info, log_debug, log_error"
   ]
  },
  {
   "cell_type": "code",
   "execution_count": 2,
   "metadata": {},
   "outputs": [],
   "source": [
    "load_dotenv()\n",
    "setup_logger()"
   ]
  },
  {
   "cell_type": "code",
   "execution_count": 3,
   "metadata": {},
   "outputs": [],
   "source": [
    "key = os.getenv(\"OPENAI_API_KEY\")"
   ]
  },
  {
   "cell_type": "code",
   "execution_count": 4,
   "metadata": {},
   "outputs": [],
   "source": [
    "my_client = OpenAI(api_key=key)"
   ]
  },
  {
   "cell_type": "code",
   "execution_count": 5,
   "metadata": {},
   "outputs": [],
   "source": [
    "def time_this_function(func):\n",
    "    def wrapper(*args, **kwargs):\n",
    "        start = time.perf_counter()\n",
    "        res = func(*args, **kwargs)\n",
    "        end = time.perf_counter()\n",
    "        print(f\"Function `{func.__name__}` took {end - start:.3f} seconds to run.\")\n",
    "        return res\n",
    "\n",
    "    return wrapper"
   ]
  },
  {
   "cell_type": "code",
   "execution_count": 6,
   "metadata": {},
   "outputs": [],
   "source": [
    "@time_this_function\n",
    "def get_completion(prompt, model=\"gpt-3.5-turbo\"):\n",
    "    messages = [{\"role\": \"user\", \"content\": prompt}]\n",
    "\n",
    "    response = my_client.chat.completions.create(\n",
    "        model=model,\n",
    "        messages=messages,\n",
    "        temperature=0,\n",
    "    )\n",
    "\n",
    "    log_debug(response)\n",
    "\n",
    "    return response.choices[0].message.content\n",
    "\n",
    "\n",
    "@time_this_function\n",
    "def stream_completion(prompt, model=\"gpt-3.5-turbo\"):\n",
    "    messages = [{\"role\": \"user\", \"content\": prompt}]\n",
    "\n",
    "    response = my_client.chat.completions.create(\n",
    "        model=model,\n",
    "        messages=messages,\n",
    "        stream=True,\n",
    "        temperature=0,\n",
    "    )\n",
    "\n",
    "    log_debug(response)\n",
    "\n",
    "    for resp_chunk in response:\n",
    "        curr_chunk = resp_chunk.choices[0].delta.content\n",
    "        if curr_chunk is not None:\n",
    "            yield curr_chunk\n",
    "\n",
    "\n",
    "@time_this_function\n",
    "def converse(\n",
    "    prompt,\n",
    "    messages=None,\n",
    "    model=\"gpt-3.5-turbo\",\n",
    "    max_tokens=3000,\n",
    "    temperature=0,\n",
    "    top_p=1,\n",
    "    frequency_penalty=0,\n",
    "    presence_penalty=0,\n",
    "):\n",
    "    if messages is None:\n",
    "        messages = list()\n",
    "\n",
    "    messages.append({\"role\": \"user\", \"content\": prompt})\n",
    "\n",
    "    response = (\n",
    "        my_client.chat.completions.create(\n",
    "            model=model,\n",
    "            messages=messages,\n",
    "            temperature=temperature,\n",
    "            max_tokens=max_tokens,\n",
    "            top_p=top_p,\n",
    "            frequency_penalty=frequency_penalty,\n",
    "            presence_penalty=presence_penalty,\n",
    "        )\n",
    "        .choices[0]\n",
    "        .message.content\n",
    "    )\n",
    "\n",
    "    messages.append({\"role\": \"assistant\", \"content\": response})\n",
    "\n",
    "    return response, messages"
   ]
  },
  {
   "cell_type": "code",
   "execution_count": 7,
   "metadata": {},
   "outputs": [],
   "source": [
    "@time_this_function\n",
    "def create_assistant(assistant_name: str, instruction: str, model: str = \"gpt-3.5-turbo\"):\n",
    "    my_assistant = my_client.beta.assistants.create(model=model, instructions=instruction, name=assistant_name)\n",
    "    log_info(my_assistant)\n",
    "\n",
    "    return my_assistant.id\n",
    "\n",
    "\n",
    "@time_this_function\n",
    "def get_assistant_from_id(assistant_id: str):\n",
    "    my_assistant = my_client.beta.assistants.retrieve(assistant_id)\n",
    "    log_info(my_assistant)\n",
    "\n",
    "    return my_assistant.id\n",
    "\n",
    "\n",
    "@time_this_function\n",
    "def delete_assistant_with_id(assistant_id: str):\n",
    "    response = my_client.beta.assistants.delete(assistant_id)\n",
    "    log_info(response)\n",
    "\n",
    "    return response.deleted\n",
    "\n",
    "\n",
    "@time_this_function\n",
    "def create_assistant_thread(user_msg: str):\n",
    "    thread = my_client.beta.threads.create(messages=[{\"role\": \"user\", \"content\": user_msg}])\n",
    "    log_info(thread)\n",
    "\n",
    "    return thread.id\n",
    "\n",
    "\n",
    "@time_this_function\n",
    "def create_run_from_thread(thread_id: str, assistant_id: str):\n",
    "    run = my_client.beta.threads.runs.create(thread_id=thread_id, assistant_id=assistant_id)\n",
    "    log_info(run)\n",
    "\n",
    "    return run.id\n",
    "\n",
    "\n",
    "@time_this_function\n",
    "def poll_run_till_complete(thread_id: str, run_id: str):\n",
    "    while True:\n",
    "        run = my_client.beta.threads.runs.retrieve(thread_id=thread_id, run_id=run_id)\n",
    "\n",
    "        if run.status not in [\"queued\", \"in_progress\"]:\n",
    "            log_info(run)\n",
    "            return run\n",
    "\n",
    "        time.sleep(1)\n",
    "\n",
    "\n",
    "@time_this_function\n",
    "def list_messages_in_thread(thread_id: str):\n",
    "    messages = my_client.beta.threads.messages.list(thread_id=thread_id)\n",
    "    log_info(messages)\n",
    "\n",
    "    return messages"
   ]
  },
  {
   "cell_type": "code",
   "execution_count": 8,
   "metadata": {},
   "outputs": [],
   "source": [
    "ONE_GAME_EVENTS = \"It is a football match in the 2012 season of the first division league of germany. The match is played in the home turf of Borussia Dortmund on 2011-08-05, between home team Borussia Dortmund and away team Hamburg SV. On minute 2, the game is being played on Left side of the box in the field, and Attempt happens accompanied with Key Pass. The primary player involved in the event was mladen petric who used his left foot for the shot with the secondary player involved being gokhan tore.  The shot was off target and was flying High and wide. On minute 14, the game is being played on Outside the box in the field, and Attempt happens accompanied with Key Pass. The primary player involved in the event was shinji kagawa who used his right foot for the shot with the secondary player involved being mario gotze.  The shot was off target and was flying Top right corner. On minute 17, the game is being played on Left side of the box in the field, and Attempt happens accompanied with Key Pass. This resulted in a goal for Borussia Dortmund, which was accompanied by an assist via Pass. The primary player involved in the event was kevin grosskreutz who used his left foot for the shot with the secondary player involved being mario gotze.  The shot was on target and was placed at the Bottom right corner of the goal. On minute 19, the game is being played on Outside the box in the field, and Attempt happens. The primary player involved in the event was mats hummels who used his right foot for the shot. The shot was blocked by the opponent team. On minute 25, the game is being played on Centre of the box in the field, and Attempt happens accompanied with Key Pass. The primary player involved in the event was shinji kagawa who used his right foot for the shot with the secondary player involved being lukasz piszczek.  The shot had hit the bar. On minute 26, the game is being played on Centre of the box in the field, and Attempt happens accompanied with Key Pass. The primary player involved in the event was mats hummels who used his head for the shot with the secondary player involved being chris lowe.  The shot was on target and was placed at the Centre of the goal of the goal. On minute 28, the game is being played on Left side of the box in the field, and Attempt happens accompanied with Key Pass. The primary player involved in the event was shinji kagawa who used his right foot for the shot with the secondary player involved being kevin grosskreutz.  The shot was off target and was flying Misses to the right. On minute 29, the game is being played on Centre of the box in the field, and Attempt happens accompanied with Key Pass. This resulted in a goal for Borussia Dortmund, which was accompanied by an assist via Pass. The primary player involved in the event was mario gotze who used his right foot for the shot with the secondary player involved being robert lewandowski.  The shot was on target and was placed at the Centre of the goal of the goal. On minute 32, the game is being played on nan in the field, and Corner happens. The primary player involved in the event was ilkay gundogan with the secondary player involved being ilkay gundogan.  On minute 39, the game is being played on Left side of the box in the field, and Attempt happens accompanied with Key Pass. The primary player involved in the event was robert lewandowski who used his head for the shot with the secondary player involved being lukasz piszczek.  The shot was off target and was flying Misses to the right. On minute 42, the game is being played on nan in the field, and Substitution happens. The player jose paolo guerrero is substituted by anis benhatira.  On minute 45, the game is being played on Right side of the box in the field, and Attempt happens accompanied with Key Pass. The primary player involved in the event was ilkay gundogan who used his right foot for the shot with the secondary player involved being mario gotze.  The shot was off target and was flying Misses to the left. On minute 48, the game is being played on Centre of the box in the field, and Attempt happens accompanied with Key Pass. The primary player involved in the event was kevin grosskreutz who used his right foot for the shot with the secondary player involved being mario gotze.  The shot was on target and was placed at the Top centre of the goal of the goal. On minute 49, the game is being played on Very close range in the field, and Attempt happens. This resulted in a goal for Borussia Dortmund, which was accompanied by an assist via None. The primary player involved in the event was kevin grosskreutz who used his right foot for the shot. The shot was on target and was placed at the Bottom right corner of the goal. On minute 54, the game is being played on Outside the box in the field, and Attempt happens accompanied with Key Pass. The primary player involved in the event was shinji kagawa who used his right foot for the shot with the secondary player involved being kevin grosskreutz.  The shot was blocked by the opponent team. On minute 57, the game is being played on nan in the field, and Corner happens. The primary player involved in the event was felipe santana with the secondary player involved being felipe santana.  On minute 60, the game is being played on Defensive half in the field, and Free kick happens. The primary player involved in the event was anis benhatira. On minute 64, the game is being played on Centre of the box in the field, and Attempt happens accompanied with Key Pass. The primary player involved in the event was michael mancienne who used his right foot for the shot with the secondary player involved being gokhan tore.  The shot was blocked by the opponent team. On minute 74, the game is being played on nan in the field, and Corner happens. The primary player involved in the event was chris lowe with the secondary player involved being chris lowe.  On minute 76, the game is being played on nan in the field, and Substitution happens. The player chris lowe is substituted by ivan perisic.  On minute 79, the game is being played on Centre of the box in the field, and Attempt happens accompanied with Key Pass. The primary player involved in the event was marcell jansen who used his head for the shot with the secondary player involved being anis benhatira.  The shot was blocked by the opponent team. On minute 80, the game is being played on Centre of the box in the field, and Attempt happens. This resulted in a goal for Hamburg SV, which was accompanied by an assist via None. The primary player involved in the event was robert tesche who used his left foot for the shot. The shot was on target and was placed at the Bottom left corner of the goal. On minute 80, the game is being played on Left side of the box in the field, and Attempt happens accompanied with Key Pass. The primary player involved in the event was marcell jansen who used his left foot for the shot with the secondary player involved being gokhan tore.  The shot was on target and was placed at the Centre of the goal of the goal. On minute 82, the game is being played on Outside the box in the field, and Attempt happens. The primary player involved in the event was ivan perisic who used his right foot for the shot. The shot was off target and was flying Misses to the right. On minute 87, the game is being played on More than 35 yards in the field, and Attempt happens. The primary player involved in the event was kevin grosskreutz who used his right foot for the shot. The shot was off target and was flying Too high. On minute 90, the game is being played on nan in the field, and Substitution happens. The player shinji kagawa is substituted by sebastian kehl.  The final result of the game is 1 goals for Hamburg SV vs 3 goals for Borussia Dortmund. The winner is the home team Borussia Dortmund.\""
   ]
  },
  {
   "cell_type": "code",
   "execution_count": null,
   "metadata": {},
   "outputs": [],
   "source": [
    "ASSISTANT_INSTRUCTION = (\n",
    "    \"You are a football commentator bot in the 5 major leagues in Europe, who summarizes the major events \"\n",
    "    \"of a game. You are given the contexts for the game, as well as the final results of the game. Use the context and search the \"\n",
    "    \"latest data available to set up the environment, then summarize the game, and finally explain the result. While \"\n",
    "    \"summarizing the game, you should mention the major events that had impacted the game. If you find the stadium names, \"\n",
    "    \"or the shirt number of the players, you should also include those in your summary. Try to keep the commentary \"\n",
    "    \"interesting and engaging for the audience while maintaining a 5 minute spoken length for the commentary. \"\n",
    ")"
   ]
  },
  {
   "cell_type": "code",
   "execution_count": 9,
   "metadata": {},
   "outputs": [],
   "source": [
    "@time_this_function\n",
    "def create_run_delete_assistant():\n",
    "    assistant_name = \"Soccer Commentator Bot\"\n",
    "    assistant_id = create_assistant(assistant_name, ASSISTANT_INSTRUCTION)\n",
    "    retrieved_assistant_id = get_assistant_from_id(assistant_id)\n",
    "    assert retrieved_assistant_id == assistant_id\n",
    "    thread_id = create_assistant_thread(ONE_GAME_EVENTS)\n",
    "    run_id = create_run_from_thread(thread_id, assistant_id)\n",
    "    run_details = poll_run_till_complete(thread_id, run_id)\n",
    "    if delete_assistant_with_id(assistant_id):\n",
    "        log_info(f\"Deleted assistant with id: {assistant_id}\")\n",
    "    print(run_details)\n",
    "    msgs = list_messages_in_thread(thread_id)\n",
    "    print(msgs)"
   ]
  },
  {
   "cell_type": "code",
   "execution_count": 10,
   "metadata": {},
   "outputs": [],
   "source": [
    "@time_this_function\n",
    "def assistant_test_run():\n",
    "    assistant_name = \"Soccer Commentator Bot\"\n",
    "    assistant_instruction = ASSISTANT_INSTRUCTION\n",
    "    assistant_id = create_assistant(assistant_name, assistant_instruction)\n",
    "    # assistant_id = \"asst_8rrQUDUGROgPfMrSZxo3Fb8G\"\n",
    "    retrieved_assistant_id = get_assistant_from_id(assistant_id)\n",
    "    assert retrieved_assistant_id == assistant_id\n",
    "    # print(f\"{ONE_GAME_EVENTS=}\")\n",
    "    response = create_run_delete_assistant(assistant_id, ONE_GAME_EVENTS)\n",
    "    print(response)\n",
    "    # delete_assistant_with_id(assistant_id)"
   ]
  },
  {
   "cell_type": "code",
   "execution_count": 11,
   "metadata": {},
   "outputs": [],
   "source": [
    "@time_this_function\n",
    "def chat_test_run():\n",
    "    prompt = f\"How are you feeling today?\"\n",
    "    response = get_completion(prompt)\n",
    "    print(response)"
   ]
  },
  {
   "cell_type": "code",
   "execution_count": 12,
   "metadata": {},
   "outputs": [],
   "source": [
    "# chat_test_run()"
   ]
  },
  {
   "cell_type": "code",
   "execution_count": 13,
   "metadata": {},
   "outputs": [
    {
     "name": "stdout",
     "output_type": "stream",
     "text": [
      "Function `create_assistant` took 0.475 seconds to run.\n",
      "Function `get_assistant_from_id` took 0.205 seconds to run.\n",
      "Function `create_assistant_thread` took 0.320 seconds to run.\n",
      "Function `create_run_from_thread` took 0.435 seconds to run.\n",
      "Function `poll_run_till_complete` took 4.797 seconds to run.\n",
      "Run(id='run_pxT2pmvAPlMYDVlhgvO4LPu2', assistant_id='asst_33zMYiOWBXm0STTUrY70ssHh', cancelled_at=None, completed_at=1713383993, created_at=1713383988, expires_at=None, failed_at=None, file_ids=[], instructions='You are a football commentator bot in the 5 major leagues in Europe, who summarizes the major events of a game. You are given the contexts for the game, as well as the final results of the game. Use the context and search the latest data available to set up the environment, then summarize the game, and finally explain the result.', last_error=None, metadata={}, model='gpt-3.5-turbo', object='thread.run', required_action=None, started_at=1713383988, status='completed', thread_id='thread_0dzhpT9bBhOdgvCWoHL0qpzw', tools=[], usage=Usage(completion_tokens=256, prompt_tokens=1839, total_tokens=2095), temperature=1.0, top_p=1.0, max_completion_tokens=None, max_prompt_tokens=None, truncation_strategy={'type': 'auto', 'last_messages': None}, incomplete_details=None, response_format='auto', tool_choice='auto')\n",
      "Function `list_messages_in_thread` took 0.215 seconds to run.\n",
      "SyncCursorPage[Message](data=[Message(id='msg_2tzS10CaXQkTwd2EgDxukrtA', assistant_id='asst_33zMYiOWBXm0STTUrY70ssHh', completed_at=None, content=[TextContentBlock(text=Text(annotations=[], value=\"In a thrilling match between Borussia Dortmund and Hamburg SV in the 2012 Bundesliga season, Borussia Dortmund emerged victorious with a 3-1 win. The game started with both teams showing attacking intent early on. Mladen Petric of Hamburg SV and Shinji Kagawa of Borussia Dortmund had early attempts at goal, but the shots were off target.\\n\\nBorussia Dortmund opened the scoring in the 17th minute with a goal from Kevin Grosskreutz, assisted by Mario Gotze. Mats Hummels then doubled Dortmund's lead in the 26th minute with a headed goal from a Chris Lowe pass. The home side continued to dominate with multiple attempts on goal, hitting the bar and missing narrowly.\\n\\nMario Gotze extended Borussia Dortmund's lead to 3-0 in the 29th minute with a goal assisted by Robert Lewandowski. Despite their efforts, Hamburg SV managed to pull one back in the 80th minute with a goal from Robert Tesche.\\n\\nThe match saw several more attempts from both sides in the closing stages, but Borussia Dortmund held on to secure the victory. The result was a testament to Dortmund's clinical finishing and solid defensive display, earning them a well-deserved win in front of their home fans.\"), type='text')], created_at=1713383989, file_ids=[], incomplete_at=None, incomplete_details=None, metadata={}, object='thread.message', role='assistant', run_id='run_pxT2pmvAPlMYDVlhgvO4LPu2', status=None, thread_id='thread_0dzhpT9bBhOdgvCWoHL0qpzw'), Message(id='msg_EXFJeEbD3AKyHgap0r53TIN9', assistant_id=None, completed_at=None, content=[TextContentBlock(text=Text(annotations=[], value='It is a football match in the 2012 season of the first division league of germany. The match is played in the home turf of Borussia Dortmund on 2011-08-05, between home team Borussia Dortmund and away team Hamburg SV. On minute 2, the game is being played on Left side of the box in the field, and Attempt happens accompanied with Key Pass. The primary player involved in the event was mladen petric who used his left foot for the shot with the secondary player involved being gokhan tore.  The shot was off target and was flying High and wide. On minute 14, the game is being played on Outside the box in the field, and Attempt happens accompanied with Key Pass. The primary player involved in the event was shinji kagawa who used his right foot for the shot with the secondary player involved being mario gotze.  The shot was off target and was flying Top right corner. On minute 17, the game is being played on Left side of the box in the field, and Attempt happens accompanied with Key Pass. This resulted in a goal for Borussia Dortmund, which was accompanied by an assist via Pass. The primary player involved in the event was kevin grosskreutz who used his left foot for the shot with the secondary player involved being mario gotze.  The shot was on target and was placed at the Bottom right corner of the goal. On minute 19, the game is being played on Outside the box in the field, and Attempt happens. The primary player involved in the event was mats hummels who used his right foot for the shot. The shot was blocked by the opponent team. On minute 25, the game is being played on Centre of the box in the field, and Attempt happens accompanied with Key Pass. The primary player involved in the event was shinji kagawa who used his right foot for the shot with the secondary player involved being lukasz piszczek.  The shot had hit the bar. On minute 26, the game is being played on Centre of the box in the field, and Attempt happens accompanied with Key Pass. The primary player involved in the event was mats hummels who used his head for the shot with the secondary player involved being chris lowe.  The shot was on target and was placed at the Centre of the goal of the goal. On minute 28, the game is being played on Left side of the box in the field, and Attempt happens accompanied with Key Pass. The primary player involved in the event was shinji kagawa who used his right foot for the shot with the secondary player involved being kevin grosskreutz.  The shot was off target and was flying Misses to the right. On minute 29, the game is being played on Centre of the box in the field, and Attempt happens accompanied with Key Pass. This resulted in a goal for Borussia Dortmund, which was accompanied by an assist via Pass. The primary player involved in the event was mario gotze who used his right foot for the shot with the secondary player involved being robert lewandowski.  The shot was on target and was placed at the Centre of the goal of the goal. On minute 32, the game is being played on nan in the field, and Corner happens. The primary player involved in the event was ilkay gundogan with the secondary player involved being ilkay gundogan.  On minute 39, the game is being played on Left side of the box in the field, and Attempt happens accompanied with Key Pass. The primary player involved in the event was robert lewandowski who used his head for the shot with the secondary player involved being lukasz piszczek.  The shot was off target and was flying Misses to the right. On minute 42, the game is being played on nan in the field, and Substitution happens. The player jose paolo guerrero is substituted by anis benhatira.  On minute 45, the game is being played on Right side of the box in the field, and Attempt happens accompanied with Key Pass. The primary player involved in the event was ilkay gundogan who used his right foot for the shot with the secondary player involved being mario gotze.  The shot was off target and was flying Misses to the left. On minute 48, the game is being played on Centre of the box in the field, and Attempt happens accompanied with Key Pass. The primary player involved in the event was kevin grosskreutz who used his right foot for the shot with the secondary player involved being mario gotze.  The shot was on target and was placed at the Top centre of the goal of the goal. On minute 49, the game is being played on Very close range in the field, and Attempt happens. This resulted in a goal for Borussia Dortmund, which was accompanied by an assist via None. The primary player involved in the event was kevin grosskreutz who used his right foot for the shot. The shot was on target and was placed at the Bottom right corner of the goal. On minute 54, the game is being played on Outside the box in the field, and Attempt happens accompanied with Key Pass. The primary player involved in the event was shinji kagawa who used his right foot for the shot with the secondary player involved being kevin grosskreutz.  The shot was blocked by the opponent team. On minute 57, the game is being played on nan in the field, and Corner happens. The primary player involved in the event was felipe santana with the secondary player involved being felipe santana.  On minute 60, the game is being played on Defensive half in the field, and Free kick happens. The primary player involved in the event was anis benhatira. On minute 64, the game is being played on Centre of the box in the field, and Attempt happens accompanied with Key Pass. The primary player involved in the event was michael mancienne who used his right foot for the shot with the secondary player involved being gokhan tore.  The shot was blocked by the opponent team. On minute 74, the game is being played on nan in the field, and Corner happens. The primary player involved in the event was chris lowe with the secondary player involved being chris lowe.  On minute 76, the game is being played on nan in the field, and Substitution happens. The player chris lowe is substituted by ivan perisic.  On minute 79, the game is being played on Centre of the box in the field, and Attempt happens accompanied with Key Pass. The primary player involved in the event was marcell jansen who used his head for the shot with the secondary player involved being anis benhatira.  The shot was blocked by the opponent team. On minute 80, the game is being played on Centre of the box in the field, and Attempt happens. This resulted in a goal for Hamburg SV, which was accompanied by an assist via None. The primary player involved in the event was robert tesche who used his left foot for the shot. The shot was on target and was placed at the Bottom left corner of the goal. On minute 80, the game is being played on Left side of the box in the field, and Attempt happens accompanied with Key Pass. The primary player involved in the event was marcell jansen who used his left foot for the shot with the secondary player involved being gokhan tore.  The shot was on target and was placed at the Centre of the goal of the goal. On minute 82, the game is being played on Outside the box in the field, and Attempt happens. The primary player involved in the event was ivan perisic who used his right foot for the shot. The shot was off target and was flying Misses to the right. On minute 87, the game is being played on More than 35 yards in the field, and Attempt happens. The primary player involved in the event was kevin grosskreutz who used his right foot for the shot. The shot was off target and was flying Too high. On minute 90, the game is being played on nan in the field, and Substitution happens. The player shinji kagawa is substituted by sebastian kehl.  The final result of the game is 1 goals for Hamburg SV vs 3 goals for Borussia Dortmund. The winner is the home team Borussia Dortmund.'), type='text')], created_at=1713383988, file_ids=[], incomplete_at=None, incomplete_details=None, metadata={}, object='thread.message', role='user', run_id=None, status=None, thread_id='thread_0dzhpT9bBhOdgvCWoHL0qpzw')], object='list', first_id='msg_2tzS10CaXQkTwd2EgDxukrtA', last_id='msg_EXFJeEbD3AKyHgap0r53TIN9', has_more=False)\n",
      "Function `run_assistant` took 6.446 seconds to run.\n"
     ]
    }
   ],
   "source": [
    "create_run_delete_assistant()"
   ]
  },
  {
   "cell_type": "code",
   "execution_count": null,
   "metadata": {},
   "outputs": [],
   "source": []
  },
  {
   "cell_type": "code",
   "execution_count": null,
   "metadata": {},
   "outputs": [],
   "source": []
  },
  {
   "cell_type": "code",
   "execution_count": null,
   "metadata": {},
   "outputs": [],
   "source": []
  }
 ],
 "metadata": {
  "kernelspec": {
   "display_name": "capstone",
   "language": "python",
   "name": "python3"
  },
  "language_info": {
   "codemirror_mode": {
    "name": "ipython",
    "version": 3
   },
   "file_extension": ".py",
   "mimetype": "text/x-python",
   "name": "python",
   "nbconvert_exporter": "python",
   "pygments_lexer": "ipython3",
   "version": "3.12.1"
  }
 },
 "nbformat": 4,
 "nbformat_minor": 2
}
